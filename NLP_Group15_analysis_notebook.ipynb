{
 "cells": [
  {
   "cell_type": "markdown",
   "id": "d929882a",
   "metadata": {
    "scrolled": true
   },
   "source": [
    "## Remarks\n",
    "\n",
    "The basic data preprocessing structure was derived by: [1] http://analyticmunch.weebly.com/semeval-2010-task-8.html"
   ]
  },
  {
   "cell_type": "code",
   "execution_count": 1,
   "id": "90cddb19",
   "metadata": {},
   "outputs": [],
   "source": [
    "# Imports\n",
    "\n",
    "import re\n",
    "import csv\n",
    "import pandas as pd\n",
    "import numpy as np\n",
    "import random\n",
    "import pickle\n",
    "from sklearn.feature_extraction.text import CountVectorizer\n",
    "from sklearn.feature_extraction.text import TfidfTransformer\n",
    "from sklearn.metrics import ConfusionMatrixDisplay\n",
    "from sklearn.pipeline import Pipeline\n",
    "from sklearn.linear_model import SGDClassifier\n",
    "from sklearn.naive_bayes import MultinomialNB\n",
    "from sklearn.model_selection import GridSearchCV\n",
    "import nltk\n",
    "from nltk import word_tokenize"
   ]
  },
  {
   "cell_type": "markdown",
   "id": "18686ef3",
   "metadata": {},
   "source": [
    "## Reading in and cleaning data"
   ]
  },
  {
   "cell_type": "code",
   "execution_count": 2,
   "id": "4ca1384f",
   "metadata": {},
   "outputs": [],
   "source": [
    "# Input File Paths\n",
    "training_data = 'data/training/TRAIN_FILE.TXT'\n",
    "test_data_sentences = 'data/test/TEST_FILE_CLEAN.TXT'\n",
    "test_data_keys = 'data/test/TEST_FILE_KEY.TXT'\n",
    "\n",
    "# Output File Paths\n",
    "training_data_cleaned = 'train_data.csv'\n",
    "test_data_sentences_cleaned = 'test_data_sentences.csv'\n",
    "test_data_keys_cleaned = 'test_data_keys.csv'\n",
    "naive_bayes_predictions = 'naive_bayes_predictions.csv'"
   ]
  },
  {
   "cell_type": "code",
   "execution_count": 3,
   "id": "3520bff8",
   "metadata": {},
   "outputs": [],
   "source": [
    "# Configuration for Testing\n",
    "binary_category = 'Entity-Destination'\n",
    "pos_tagging = False"
   ]
  },
  {
   "cell_type": "code",
   "execution_count": 4,
   "id": "072e4968",
   "metadata": {},
   "outputs": [],
   "source": [
    "# Reference: [1]\n",
    "\n",
    "def read_data_by_line(input_data):\n",
    "    all_lines = []\n",
    "    with open(input_data, 'r') as file:\n",
    "        temp_lines = file.readlines()\n",
    "        for line in temp_lines:\n",
    "            line = line.strip()\n",
    "            if line:\n",
    "                all_lines.append(line)\n",
    "    return all_lines\n",
    "\n",
    "def load_data(input_data, is_training_data):\n",
    "    data_lines = read_data_by_line(input_data)\n",
    "    data_raw = []\n",
    "    i = 0\n",
    "    for line in data_lines:\n",
    "        # remove 'Comment' line for training data\n",
    "        if is_training_data:\n",
    "            if not line.startswith('Comment:'):\n",
    "                data_raw.append(line.split('|'))\n",
    "        else:\n",
    "            data_raw.append(line.split('|'))\n",
    "        i += 1\n",
    "\n",
    "    sentences = []\n",
    "    relations = []\n",
    "\n",
    "    for i,j in enumerate(data_raw, 1):\n",
    "        if is_training_data:\n",
    "            if i%2 == 0:\n",
    "                relations.append(j)\n",
    "            else:\n",
    "                sentences.append(j)\n",
    "        else:\n",
    "            sentences.append(j)\n",
    "            \n",
    "    e1e2 = []\n",
    "    for sentence_line in sentences:\n",
    "        sentence_string = ''.join(sentence_line)\n",
    "        sentence_match = re.sub('\\t','',sentence_string)\n",
    "        k=sentence_match.lstrip('0123456789.-')\n",
    "        sentence_sub = re.sub('<[^>]*>', '', k)\n",
    "        sentence_line_final = sentence_sub.replace('\"', '')\n",
    "        e1e2.append(sentence_line_final)\n",
    "\n",
    "    # converting to strings\n",
    "    relations_string = ','.join(str(r) for v in relations for r in v)\n",
    "    w2 = re.sub(r'\\([^)]*\\)', \"\",relations_string).split(',')\n",
    "    \n",
    "    # Generating sentence-relation tuples for the csv\n",
    "    data_output = zip(e1e2,w2)\n",
    "    \n",
    "    if is_training_data:\n",
    "        with open(training_data_cleaned, \"w\") as train_file:\n",
    "            writer = csv.writer(train_file,delimiter=',')\n",
    "            for row in data_output:\n",
    "                writer.writerow(row)\n",
    "    else:   \n",
    "        with open(test_data_sentences_cleaned, \"w\") as test_sentences_file:\n",
    "            writer = csv.writer(test_sentences_file)\n",
    "            for row in e1e2:\n",
    "                writer.writerow([row])\n",
    "                \n",
    "def load_keys_data(input_data):\n",
    "        with open(input_data, 'r') as file:\n",
    "            key_value = []\n",
    "            key_lines = file.readlines()\n",
    "            \n",
    "            for line in key_lines:\n",
    "                key_line = line.strip()\n",
    "                key_string = ''.join(key_line)\n",
    "                key_match = re.sub('\\t \\r \\n','',key_string)\n",
    "                key_rem_num = key_match.lstrip('0123456789.-')\n",
    "                key_rem_num = re.sub('\\t','',key_rem_num)\n",
    "                key_value.append(key_rem_num)\n",
    "                \n",
    "            with open(test_data_keys_cleaned, \"w\") as test_keys_file:\n",
    "                writer_key = csv.writer(test_keys_file,delimiter=',')\n",
    "                for row_key in key_value:\n",
    "                    writer_key.writerow([row_key])                "
   ]
  },
  {
   "cell_type": "code",
   "execution_count": 5,
   "id": "6acace85",
   "metadata": {},
   "outputs": [],
   "source": [
    "load_data(training_data, True)\n",
    "load_data(test_data_sentences, False)\n",
    "load_keys_data(test_data_keys)"
   ]
  },
  {
   "cell_type": "markdown",
   "id": "2ea09b3b",
   "metadata": {},
   "source": [
    "## Preparing Data"
   ]
  },
  {
   "cell_type": "code",
   "execution_count": 6,
   "id": "d744665d",
   "metadata": {},
   "outputs": [],
   "source": [
    "# Reference: [1]\n",
    "\n",
    "# Reading cleaned training data\n",
    "train_col_names = ['Sentence','Relation']\n",
    "train_data = pd.read_csv(training_data_cleaned, header = None, names = train_col_names)\n",
    "train_data = pd.DataFrame(train_data)\n",
    "train_data_str = train_data['Sentence'].astype(str)\n",
    "\n",
    "train_data_relation = train_data[['Relation']]\n",
    "\n",
    "# Reading cleaned test data (sentences)\n",
    "test_col_names = ['Sentence']\n",
    "test_data = pd.read_csv(test_data_sentences_cleaned, header = None, names = test_col_names)\n",
    "test_data = pd.DataFrame(test_data)\n",
    "test_data_str = test_data['Sentence'].astype(str)\n",
    "\n",
    "# Reading cleaned test data (keys)\n",
    "test_keys = pd.read_csv(test_data_keys_cleaned, header = None)"
   ]
  },
  {
   "cell_type": "code",
   "execution_count": 7,
   "id": "ece21e77",
   "metadata": {},
   "outputs": [
    {
     "data": {
      "text/html": [
       "<div>\n",
       "<style scoped>\n",
       "    .dataframe tbody tr th:only-of-type {\n",
       "        vertical-align: middle;\n",
       "    }\n",
       "\n",
       "    .dataframe tbody tr th {\n",
       "        vertical-align: top;\n",
       "    }\n",
       "\n",
       "    .dataframe thead th {\n",
       "        text-align: right;\n",
       "    }\n",
       "</style>\n",
       "<table border=\"1\" class=\"dataframe\">\n",
       "  <thead>\n",
       "    <tr style=\"text-align: right;\">\n",
       "      <th></th>\n",
       "      <th>0</th>\n",
       "      <th>category</th>\n",
       "    </tr>\n",
       "  </thead>\n",
       "  <tbody>\n",
       "    <tr>\n",
       "      <th>0</th>\n",
       "      <td>Message-Topic</td>\n",
       "      <td>Other</td>\n",
       "    </tr>\n",
       "    <tr>\n",
       "      <th>1</th>\n",
       "      <td>Product-Producer</td>\n",
       "      <td>Other</td>\n",
       "    </tr>\n",
       "    <tr>\n",
       "      <th>2</th>\n",
       "      <td>Instrument-Agency</td>\n",
       "      <td>Other</td>\n",
       "    </tr>\n",
       "    <tr>\n",
       "      <th>3</th>\n",
       "      <td>Entity-Destination</td>\n",
       "      <td>Entity-Destination</td>\n",
       "    </tr>\n",
       "    <tr>\n",
       "      <th>4</th>\n",
       "      <td>Cause-Effect</td>\n",
       "      <td>Other</td>\n",
       "    </tr>\n",
       "    <tr>\n",
       "      <th>...</th>\n",
       "      <td>...</td>\n",
       "      <td>...</td>\n",
       "    </tr>\n",
       "    <tr>\n",
       "      <th>2712</th>\n",
       "      <td>Instrument-Agency</td>\n",
       "      <td>Other</td>\n",
       "    </tr>\n",
       "    <tr>\n",
       "      <th>2713</th>\n",
       "      <td>Product-Producer</td>\n",
       "      <td>Other</td>\n",
       "    </tr>\n",
       "    <tr>\n",
       "      <th>2714</th>\n",
       "      <td>Component-Whole</td>\n",
       "      <td>Other</td>\n",
       "    </tr>\n",
       "    <tr>\n",
       "      <th>2715</th>\n",
       "      <td>Product-Producer</td>\n",
       "      <td>Other</td>\n",
       "    </tr>\n",
       "    <tr>\n",
       "      <th>2716</th>\n",
       "      <td>Entity-Destination</td>\n",
       "      <td>Entity-Destination</td>\n",
       "    </tr>\n",
       "  </tbody>\n",
       "</table>\n",
       "<p>2717 rows × 2 columns</p>\n",
       "</div>"
      ],
      "text/plain": [
       "                       0            category\n",
       "0          Message-Topic               Other\n",
       "1       Product-Producer               Other\n",
       "2      Instrument-Agency               Other\n",
       "3     Entity-Destination  Entity-Destination\n",
       "4           Cause-Effect               Other\n",
       "...                  ...                 ...\n",
       "2712   Instrument-Agency               Other\n",
       "2713    Product-Producer               Other\n",
       "2714     Component-Whole               Other\n",
       "2715    Product-Producer               Other\n",
       "2716  Entity-Destination  Entity-Destination\n",
       "\n",
       "[2717 rows x 2 columns]"
      ]
     },
     "execution_count": 7,
     "metadata": {},
     "output_type": "execute_result"
    }
   ],
   "source": [
    "# Overwrite every category with 'other' except 'Entity-Destination'\n",
    "test_keys['category'] = 'Other'\n",
    "test_keys['category'][test_keys[0]==binary_category] = binary_category\n",
    "test_keys"
   ]
  },
  {
   "cell_type": "code",
   "execution_count": 8,
   "id": "e5a0453e",
   "metadata": {},
   "outputs": [],
   "source": [
    "# Reference: [1]\n",
    "\n",
    "def factorize_relation_old(x):\n",
    "    if x=='Other':\n",
    "        return 0\n",
    "    if x=='Cause-Effect':\n",
    "        return 1\n",
    "    if x=='Product-Producer':\n",
    "        return 2\n",
    "    if x=='Entity-Origin':\n",
    "        return 3\n",
    "    if x=='Instrument-Agency':\n",
    "        return 4\n",
    "    if x=='Component-Whole':\n",
    "        return 5\n",
    "    if x=='Content-Container':\n",
    "        return 6\n",
    "    if x=='Entity-Destination':\n",
    "        return 7\n",
    "    if x=='Member-Collection':\n",
    "        return 8\n",
    "    if x=='Message-Topic':\n",
    "        return 9\n",
    "    \n",
    "def factorize_relation(x):\n",
    "    if x==binary_category:\n",
    "        return 1\n",
    "    else:\n",
    "        return 0\n",
    "\n",
    "# Factorizing train relations    \n",
    "train_data_relation['Relation_Number'] = train_data_relation['Relation'].apply(factorize_relation)\n",
    "train_data_relation_array = np.array(train_data_relation['Relation_Number'])\n",
    "\n",
    "# Factorizing test keys\n",
    "test_keys['Relation_Number'] = test_keys[0].apply(factorize_relation)\n",
    "test_keys_array = np.array(test_keys['Relation_Number'])"
   ]
  },
  {
   "cell_type": "markdown",
   "id": "1a007936",
   "metadata": {},
   "source": [
    "### POS-tagging the sentences "
   ]
  },
  {
   "cell_type": "code",
   "execution_count": 9,
   "id": "cb765f7c",
   "metadata": {},
   "outputs": [],
   "source": [
    "if pos_tagging:\n",
    "    wpt = nltk.WordPunctTokenizer()\n",
    "\n",
    "    pos_tagged_train_sentences = []\n",
    "    pos_tagged_test_sentences = []\n",
    "\n",
    "    for sentence in train_data_str:\n",
    "        text = wpt.tokenize(sentence[:-1])\n",
    "        text_tagged = nltk.pos_tag(text)\n",
    "        new_text = []\n",
    "        for word in text_tagged:\n",
    "            new_text.append(word[0] + \"/\" + word[1])\n",
    "\n",
    "        doc = ' '.join(new_text)\n",
    "        pos_tagged_train_sentences.append(str(doc))\n",
    "\n",
    "    train_data_str = pos_tagged_train_sentences\n",
    "    print(pos_tagged_train_sentences[0])\n",
    "    for sentence in test_data_str:\n",
    "        text = wpt.tokenize(sentence[:-1])\n",
    "        text_tagged = nltk.pos_tag(text)\n",
    "        new_text = []\n",
    "        for word in text_tagged:\n",
    "            new_text.append(word[0] + \"/\" + word[1])\n",
    "\n",
    "        doc = ' '.join(new_text)\n",
    "        pos_tagged_test_sentences.append(str(doc))\n",
    "    \n",
    "    test_data_str = pos_tagged_test_sentences"
   ]
  },
  {
   "cell_type": "markdown",
   "id": "9524a016",
   "metadata": {},
   "source": [
    "## Building Baseline Model: Naive Bayes"
   ]
  },
  {
   "cell_type": "code",
   "execution_count": 11,
   "id": "fafae9fb",
   "metadata": {},
   "outputs": [
    {
     "name": "stdout",
     "output_type": "stream",
     "text": [
      "Multinomial Naive Bayes Model, Accuracy = 94.70003680529996 %\n"
     ]
    }
   ],
   "source": [
    "# Preprocess data using pipeline\n",
    "classifier = MultinomialNB(alpha=0.01)\n",
    "text_classification = Pipeline([('vectorizer', CountVectorizer(ngram_range=(1,3))), ('tfidftransformer', TfidfTransformer(use_idf=True)), ('classification', classifier)])\n",
    "\n",
    "# Train model\n",
    "text_classification = text_classification.fit(train_data_str, train_data_relation_array)\n",
    "\n",
    "# Make predictions\n",
    "predictions = text_classification.predict(test_data_str)\n",
    "\n",
    "# Save Predictions to csv file\n",
    "np.savetxt(naive_bayes_predictions, predictions, delimiter=\",\")\n",
    "\n",
    "# Compute accuracy\n",
    "accuracy_for_test_keys = np.mean(predictions == test_keys_array)\n",
    "print(\"Multinomial Naive Bayes Model, Accuracy = {} %\".format(accuracy_for_test_keys * 100))"
   ]
  },
  {
   "cell_type": "code",
   "execution_count": 12,
   "id": "828dc7c2",
   "metadata": {},
   "outputs": [
    {
     "data": {
      "text/plain": [
       "array([0, 0, 0, ..., 0, 0, 0], dtype=int64)"
      ]
     },
     "execution_count": 12,
     "metadata": {},
     "output_type": "execute_result"
    }
   ],
   "source": [
    "# save the model to disk.\n",
    "filename = 'baseline_classifier.sav'\n",
    "pickle.dump(text_classification, open(filename, 'wb'))\n",
    "# load the model from disk.\n",
    "loaded_model = pickle.load(open(filename, 'rb'))\n",
    "# result = loaded_model.score(X_test, Y_test)\n",
    "loaded_model.predict(test_data_str)"
   ]
  },
  {
   "cell_type": "code",
   "execution_count": 13,
   "id": "c2363b0a",
   "metadata": {},
   "outputs": [
    {
     "data": {
      "text/html": [
       "<div>\n",
       "<style scoped>\n",
       "    .dataframe tbody tr th:only-of-type {\n",
       "        vertical-align: middle;\n",
       "    }\n",
       "\n",
       "    .dataframe tbody tr th {\n",
       "        vertical-align: top;\n",
       "    }\n",
       "\n",
       "    .dataframe thead th {\n",
       "        text-align: right;\n",
       "    }\n",
       "</style>\n",
       "<table border=\"1\" class=\"dataframe\">\n",
       "  <thead>\n",
       "    <tr style=\"text-align: right;\">\n",
       "      <th></th>\n",
       "      <th>Sentence</th>\n",
       "      <th>True Category</th>\n",
       "      <th>Predicted Category</th>\n",
       "      <th>Prediction Correct</th>\n",
       "    </tr>\n",
       "  </thead>\n",
       "  <tbody>\n",
       "    <tr>\n",
       "      <th>0</th>\n",
       "      <td>The most common audits were about waste and re...</td>\n",
       "      <td>Other</td>\n",
       "      <td>Other</td>\n",
       "      <td>True</td>\n",
       "    </tr>\n",
       "    <tr>\n",
       "      <th>1</th>\n",
       "      <td>The company fabricates plastic chairs.</td>\n",
       "      <td>Other</td>\n",
       "      <td>Other</td>\n",
       "      <td>True</td>\n",
       "    </tr>\n",
       "    <tr>\n",
       "      <th>2</th>\n",
       "      <td>The school master teaches the lesson with a st...</td>\n",
       "      <td>Other</td>\n",
       "      <td>Other</td>\n",
       "      <td>True</td>\n",
       "    </tr>\n",
       "    <tr>\n",
       "      <th>3</th>\n",
       "      <td>The suspect dumped the dead body into a local ...</td>\n",
       "      <td>Entity-Destination</td>\n",
       "      <td>Entity-Destination</td>\n",
       "      <td>True</td>\n",
       "    </tr>\n",
       "    <tr>\n",
       "      <th>4</th>\n",
       "      <td>Avian influenza is an infectious disease of bi...</td>\n",
       "      <td>Other</td>\n",
       "      <td>Other</td>\n",
       "      <td>True</td>\n",
       "    </tr>\n",
       "    <tr>\n",
       "      <th>...</th>\n",
       "      <td>...</td>\n",
       "      <td>...</td>\n",
       "      <td>...</td>\n",
       "      <td>...</td>\n",
       "    </tr>\n",
       "    <tr>\n",
       "      <th>2712</th>\n",
       "      <td>After seating all the idols, which itself take...</td>\n",
       "      <td>Other</td>\n",
       "      <td>Other</td>\n",
       "      <td>True</td>\n",
       "    </tr>\n",
       "    <tr>\n",
       "      <th>2713</th>\n",
       "      <td>The minister attributed the slow production of...</td>\n",
       "      <td>Other</td>\n",
       "      <td>Other</td>\n",
       "      <td>True</td>\n",
       "    </tr>\n",
       "    <tr>\n",
       "      <th>2714</th>\n",
       "      <td>The umbrella frame is provided with a movable ...</td>\n",
       "      <td>Other</td>\n",
       "      <td>Other</td>\n",
       "      <td>True</td>\n",
       "    </tr>\n",
       "    <tr>\n",
       "      <th>2715</th>\n",
       "      <td>Manos: The Hands of Fate is a low-budget horro...</td>\n",
       "      <td>Other</td>\n",
       "      <td>Other</td>\n",
       "      <td>True</td>\n",
       "    </tr>\n",
       "    <tr>\n",
       "      <th>2716</th>\n",
       "      <td>A few days before the service, Tom Burris had ...</td>\n",
       "      <td>Entity-Destination</td>\n",
       "      <td>Other</td>\n",
       "      <td>False</td>\n",
       "    </tr>\n",
       "  </tbody>\n",
       "</table>\n",
       "<p>2717 rows × 4 columns</p>\n",
       "</div>"
      ],
      "text/plain": [
       "                                               Sentence       True Category  \\\n",
       "0     The most common audits were about waste and re...               Other   \n",
       "1                The company fabricates plastic chairs.               Other   \n",
       "2     The school master teaches the lesson with a st...               Other   \n",
       "3     The suspect dumped the dead body into a local ...  Entity-Destination   \n",
       "4     Avian influenza is an infectious disease of bi...               Other   \n",
       "...                                                 ...                 ...   \n",
       "2712  After seating all the idols, which itself take...               Other   \n",
       "2713  The minister attributed the slow production of...               Other   \n",
       "2714  The umbrella frame is provided with a movable ...               Other   \n",
       "2715  Manos: The Hands of Fate is a low-budget horro...               Other   \n",
       "2716  A few days before the service, Tom Burris had ...  Entity-Destination   \n",
       "\n",
       "      Predicted Category  Prediction Correct  \n",
       "0                  Other                True  \n",
       "1                  Other                True  \n",
       "2                  Other                True  \n",
       "3     Entity-Destination                True  \n",
       "4                  Other                True  \n",
       "...                  ...                 ...  \n",
       "2712               Other                True  \n",
       "2713               Other                True  \n",
       "2714               Other                True  \n",
       "2715               Other                True  \n",
       "2716               Other               False  \n",
       "\n",
       "[2717 rows x 4 columns]"
      ]
     },
     "execution_count": 13,
     "metadata": {},
     "output_type": "execute_result"
    }
   ],
   "source": [
    "def unfactorize_relation_old(x):\n",
    "    if x==0:\n",
    "        return 'Other'\n",
    "    if x==1:\n",
    "        return 'Cause-Effect'\n",
    "    if x==2:\n",
    "        return 'Product-Producer'\n",
    "    if x==3:\n",
    "        return 'Entity-Origin'\n",
    "    if x==4:\n",
    "        return 'Instrument-Agency'\n",
    "    if x==5:\n",
    "        return 'Component-Whole'\n",
    "    if x==6:\n",
    "        return 'Content-Container'\n",
    "    if x==7:\n",
    "        return 'Entity-Destination'\n",
    "    if x==8:\n",
    "        return 'Member-Collection'\n",
    "    if x==9:\n",
    "        return 'Message-Topic'\n",
    "    \n",
    "def unfactorize_relation(x):\n",
    "    if x==0:\n",
    "        return 'Other'\n",
    "    if x==1:\n",
    "        return binary_category   \n",
    "\n",
    "evaluation_table = pd.DataFrame()\n",
    "evaluation_table[\"Sentence\"] = test_data_str\n",
    "evaluation_table[\"True Category\"] = test_keys['category']\n",
    "evaluation_table[\"Predicted Category\"] = predictions\n",
    "evaluation_table[\"Predicted Category\"] = evaluation_table[\"Predicted Category\"].apply(unfactorize_relation)\n",
    "evaluation_table[\"Prediction Correct\"] = True\n",
    "evaluation_table.loc[evaluation_table[\"Predicted Category\"] != evaluation_table[\"True Category\"], 'Prediction Correct'] = False\n",
    "evaluation_table"
   ]
  },
  {
   "cell_type": "code",
   "execution_count": 14,
   "id": "2f0beac1",
   "metadata": {},
   "outputs": [
    {
     "data": {
      "text/plain": [
       "array(['Other', 'Entity-Destination'], dtype=object)"
      ]
     },
     "execution_count": 14,
     "metadata": {},
     "output_type": "execute_result"
    }
   ],
   "source": [
    "evaluation_table[\"Predicted Category\"].unique()"
   ]
  },
  {
   "cell_type": "code",
   "execution_count": 15,
   "id": "fa427e71",
   "metadata": {},
   "outputs": [
    {
     "data": {
      "text/plain": [
       "<sklearn.metrics._plot.confusion_matrix.ConfusionMatrixDisplay at 0x240e11fce80>"
      ]
     },
     "execution_count": 15,
     "metadata": {},
     "output_type": "execute_result"
    },
    {
     "data": {
      "image/png": "[encoded data removed]",
      "text/plain": [
       "<Figure size 432x288 with 2 Axes>"
      ]
     },
     "metadata": {
      "needs_background": "light"
     },
     "output_type": "display_data"
    }
   ],
   "source": [
    "ConfusionMatrixDisplay.from_predictions(evaluation_table[\"True Category\"], evaluation_table[\"Predicted Category\"])"
   ]
  },
  {
   "cell_type": "code",
   "execution_count": 16,
   "id": "d3a3a7c9",
   "metadata": {},
   "outputs": [
    {
     "data": {
      "text/plain": [
       "True     2573\n",
       "False     144\n",
       "Name: Prediction Correct, dtype: int64"
      ]
     },
     "execution_count": 16,
     "metadata": {},
     "output_type": "execute_result"
    }
   ],
   "source": [
    "evaluation_table['Prediction Correct'].value_counts()"
   ]
  },
  {
   "cell_type": "code",
   "execution_count": 17,
   "id": "01689604",
   "metadata": {},
   "outputs": [
    {
     "data": {
      "text/plain": [
       "Entity-Destination    114\n",
       "Other                  30\n",
       "Name: True Category, dtype: int64"
      ]
     },
     "execution_count": 17,
     "metadata": {},
     "output_type": "execute_result"
    }
   ],
   "source": [
    "wrong_predictions = evaluation_table[evaluation_table['Prediction Correct']==False]['True Category']\n",
    "wrong_predictions.value_counts()"
   ]
  },
  {
   "cell_type": "markdown",
   "id": "5dd506a9",
   "metadata": {},
   "source": [
    "## Inspecting the wrong predictions more closely"
   ]
  },
  {
   "cell_type": "code",
   "execution_count": 18,
   "id": "78c01e57",
   "metadata": {},
   "outputs": [],
   "source": [
    "# wrong_predictions['Other']\n",
    "wrongly_predicted_others = wrong_predictions.loc[lambda x : x == 'Other']\n",
    "wrongly_predicted_relation = wrong_predictions.loc[lambda x : x == binary_category]\n",
    "wrongly_predicted_others_indices = list(wrongly_predicted_others.index)\n",
    "wrongly_predicted_relation_indices = list(wrongly_predicted_relation.index)"
   ]
  },
  {
   "cell_type": "code",
   "execution_count": 19,
   "id": "eb0e8f1d",
   "metadata": {},
   "outputs": [],
   "source": [
    "## get false positive sentences of the two categories\n",
    "\n",
    "# model predicts '[chosen-relation]' but is wrong\n",
    "false_positive_relation = test_data_str[wrongly_predicted_others_indices]\n",
    "# model predicts 'other' but is wrong\n",
    "false_positive_other = test_data_str[wrongly_predicted_relation_indices]"
   ]
  },
  {
   "cell_type": "code",
   "execution_count": 20,
   "id": "e34bccf2",
   "metadata": {},
   "outputs": [
    {
     "data": {
      "text/plain": [
       "74      International ship sewage regulations have ent...\n",
       "383     My aunt has been put into care suffering with ...\n",
       "567     Two seniors in this house have arrived into se...\n",
       "617     The new phone has been moved into prototype st...\n",
       "717     The estranged couple transferred funds into th...\n",
       "791     The commander has dragged soldiers into unnece...\n",
       "917     At my work, an electronic engineer has migrate...\n",
       "941                   Eight busloads ran into contention.\n",
       "966     Another 40 million people have been pushed int...\n",
       "1095    The man dug a three-foot-deep fire pit to roas...\n",
       "1169    These initiations only have been passed on to ...\n",
       "1244           You have poured balm into my anxious soul.\n",
       "1245                  The cops took the man into custody.\n",
       "1273    The letter was sent from group to group of the...\n",
       "1278    The boat basically sails from the harbour to a...\n",
       "1282    My room has been moved into the corner of the ...\n",
       "1438    The bottle carrier converts your bottle into a...\n",
       "1470    The album was stored in a protective poly jack...\n",
       "1491    The politicians have taken people deep into th...\n",
       "1504               Rumors have been leaked to the public.\n",
       "1510    The pilots have flown into trouble before they...\n",
       "1533    The acid was in a bottle but that the cap was ...\n",
       "1717    The patient has been placed into a drug induce...\n",
       "1785      The money was locked in a safe on the premises.\n",
       "2014                    Products have fallen into disuse.\n",
       "2059    The company is migrating into profitable new s...\n",
       "2135    The flights are departing into the adjacent co...\n",
       "2187             This player has moved to the next round.\n",
       "2434    The cells inside a nested table are isolated f...\n",
       "2476    During this transport, over about 10 kilometre...\n",
       "Name: Sentence, dtype: object"
      ]
     },
     "execution_count": 20,
     "metadata": {},
     "output_type": "execute_result"
    }
   ],
   "source": [
    "false_positive_relation"
   ]
  }
 ],
 "metadata": {
  "kernelspec": {
   "display_name": "Python 3 (ipykernel)",
   "language": "python",
   "name": "python3"
  },
  "language_info": {
   "codemirror_mode": {
    "name": "ipython",
    "version": 3
   },
   "file_extension": ".py",
   "mimetype": "text/x-python",
   "name": "python",
   "nbconvert_exporter": "python",
   "pygments_lexer": "ipython3",
   "version": "3.9.16"
  },
  "vscode": {
   "interpreter": {
    "hash": "e5e9b8e94beae6eb1bfdc1c745b11155db2b410d89191813a229d014591d6f9e"
   }
  }
 },
 "nbformat": 4,
 "nbformat_minor": 5
}
